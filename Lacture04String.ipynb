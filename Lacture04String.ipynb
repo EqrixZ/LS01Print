{
  "nbformat": 4,
  "nbformat_minor": 0,
  "metadata": {
    "colab": {
      "provenance": [],
      "authorship_tag": "ABX9TyMXmmSw8+1YNwksVjwgbVNW",
      "include_colab_link": true
    },
    "kernelspec": {
      "name": "python3",
      "display_name": "Python 3"
    },
    "language_info": {
      "name": "python"
    }
  },
  "cells": [
    {
      "cell_type": "markdown",
      "metadata": {
        "id": "view-in-github",
        "colab_type": "text"
      },
      "source": [
        "<a href=\"https://colab.research.google.com/github/EqrixZ/LS01Print/blob/main/Lacture04String.ipynb\" target=\"_parent\"><img src=\"https://colab.research.google.com/assets/colab-badge.svg\" alt=\"Open In Colab\"/></a>"
      ]
    },
    {
      "cell_type": "code",
      "execution_count": null,
      "metadata": {
        "colab": {
          "base_uri": "https://localhost:8080/"
        },
        "id": "BKugV1PM1cJT",
        "outputId": "5afdfb03-47eb-4acb-c3aa-c12916528424"
      },
      "outputs": [
        {
          "output_type": "stream",
          "name": "stdout",
          "text": [
            "y\n",
            "Shark\n",
            "Sammy\n",
            "hark!\n",
            "ark\n",
            "Shark\n",
            "Shark\n",
            "SmySak\n",
            "Sya\n",
            "Sya\n",
            "!krahS ymmaS\n",
            "!rh ma\n"
          ]
        }
      ],
      "source": [
        "ss = \"Sammy Shark!\"\n",
        "print(ss[4])\n",
        "print(ss[6:11])\n",
        "print(ss[:5])\n",
        "print(ss[7:])\n",
        "print(ss[-4:-1])\n",
        "print(ss[6:11])\n",
        "print(ss[6:11:1])\n",
        "print(ss[0:12:2])\n",
        "print(ss[0:12:4])\n",
        "print(ss[::4])\n",
        "print(ss[::-1])\n",
        "print(ss[::-2])"
      ]
    },
    {
      "cell_type": "code",
      "source": [
        "fruit = 'Apple'\n",
        "print (fruit.lower())"
      ],
      "metadata": {
        "colab": {
          "base_uri": "https://localhost:8080/"
        },
        "id": "lJvyBlHc9ove",
        "outputId": "b8f24f84-7425-4717-f306-42c0556f2149"
      },
      "execution_count": 2,
      "outputs": [
        {
          "output_type": "stream",
          "name": "stdout",
          "text": [
            "apple\n"
          ]
        }
      ]
    },
    {
      "cell_type": "code",
      "source": [
        "fruit = 'Apple'\n",
        "print (fruit.upper())"
      ],
      "metadata": {
        "colab": {
          "base_uri": "https://localhost:8080/"
        },
        "id": "acKDNlat943F",
        "outputId": "345e46eb-8782-4ad6-cd0e-c0561921104a"
      },
      "execution_count": 3,
      "outputs": [
        {
          "output_type": "stream",
          "name": "stdout",
          "text": [
            "APPLE\n"
          ]
        }
      ]
    },
    {
      "cell_type": "code",
      "source": [
        "again = 'y'\n",
        "while again.lower() =='y':\n",
        "  print('Hello')\n",
        "  print('Do you want to see that again?')\n",
        "  again = input('y = yes, anything else = no: ')"
      ],
      "metadata": {
        "colab": {
          "base_uri": "https://localhost:8080/"
        },
        "id": "uf0Ilfbx9_6l",
        "outputId": "694baefb-49ca-4b48-e79e-29bd66686cf2"
      },
      "execution_count": 4,
      "outputs": [
        {
          "name": "stdout",
          "output_type": "stream",
          "text": [
            "Hello\n",
            "Do you want to see that again?\n",
            "y = yes, anything else = no: y\n",
            "Hello\n",
            "Do you want to see that again?\n",
            "y = yes, anything else = no: y\n",
            "Hello\n",
            "Do you want to see that again?\n",
            "y = yes, anything else = no: n\n"
          ]
        }
      ]
    },
    {
      "cell_type": "code",
      "source": [
        "print (' I   {}   Python.   '  .format(' love ') )\n",
        "print( ' {}    {}    {} ' .format('I',   'love', 'Python.') )"
      ],
      "metadata": {
        "colab": {
          "base_uri": "https://localhost:8080/"
        },
        "id": "SHf8FHNX_fzV",
        "outputId": "2bcda590-7b9b-46dc-abec-7024062ee396"
      },
      "execution_count": 5,
      "outputs": [
        {
          "output_type": "stream",
          "name": "stdout",
          "text": [
            " I    love    Python.   \n",
            " I    love    Python. \n"
          ]
        }
      ]
    },
    {
      "cell_type": "code",
      "source": [
        "version = 3\n",
        "print (' I love Python {}.' .format(version) )"
      ],
      "metadata": {
        "colab": {
          "base_uri": "https://localhost:8080/"
        },
        "id": "REdJzmbRAifl",
        "outputId": "57c66cec-35b6-481d-8263-4d246d848c4c"
      },
      "execution_count": 7,
      "outputs": [
        {
          "output_type": "stream",
          "name": "stdout",
          "text": [
            " I love Python 3.\n"
          ]
        }
      ]
    },
    {
      "cell_type": "code",
      "source": [
        "print(' {0:8}  |  {1:8}  ' .format('Fruit' , 'Quantity' ))\n",
        "print(' {0:8}  |  {1:8}  ' .format('Apple' , '3' ))\n",
        "print(' {0:8}  |  {1:8}  ' .format('Orange' , '10' ))"
      ],
      "metadata": {
        "colab": {
          "base_uri": "https://localhost:8080/"
        },
        "id": "oTqXY71aBOSl",
        "outputId": "09d4b0bf-9e8c-447d-a64b-36c83c38ecf4"
      },
      "execution_count": 8,
      "outputs": [
        {
          "output_type": "stream",
          "name": "stdout",
          "text": [
            " Fruit     |  Quantity  \n",
            " Apple     |  3         \n",
            " Orange    |  10        \n"
          ]
        }
      ]
    },
    {
      "cell_type": "code",
      "source": [
        "print(' {0:8}  |  {1:>8}  ' .format('Fruit' , 'Quantity' ))\n",
        "print(' {0:8}  |  {1:>8.2f}  ' .format('Apple' , 2.33333 ))\n",
        "print(' {0:8}  |  {1:>8.2f}  ' .format('Orange' , 10 ))"
      ],
      "metadata": {
        "colab": {
          "base_uri": "https://localhost:8080/"
        },
        "id": "QawqoEqJCK0r",
        "outputId": "5497dc61-c1bd-40b9-9916-8f42da1d3abe"
      },
      "execution_count": 12,
      "outputs": [
        {
          "output_type": "stream",
          "name": "stdout",
          "text": [
            " Fruit     |  Quantity  \n",
            " Apple     |      2.33  \n",
            " Orange    |     10.00  \n"
          ]
        }
      ]
    },
    {
      "cell_type": "code",
      "source": [
        "balloon = \"Anirach has a balloon.\"\n",
        "\n",
        "print(\" \".join(balloon))\n",
        "print(\"\".join(reversed(balloon)))\n",
        "print(\",\".join([\"sharks\", \"crustaveans\", \"plankton\"]))"
      ],
      "metadata": {
        "colab": {
          "base_uri": "https://localhost:8080/"
        },
        "id": "kDqugYOxCwmk",
        "outputId": "18ba7d5b-2486-4b8e-eba2-6ee9aa1dbc01"
      },
      "execution_count": 14,
      "outputs": [
        {
          "output_type": "stream",
          "name": "stdout",
          "text": [
            "A n i r a c h   h a s   a   b a l l o o n .\n",
            ".noollab a sah hcarinA\n",
            "sharks,crustaveans,plankton\n"
          ]
        }
      ]
    },
    {
      "cell_type": "code",
      "source": [
        "balloon = \"Anirach has a balloon.\"\n",
        "\n",
        "print(balloon.split())\n",
        "print(balloon.split(\"a\"))"
      ],
      "metadata": {
        "colab": {
          "base_uri": "https://localhost:8080/"
        },
        "id": "pQvFczVXD4d0",
        "outputId": "b727b7ee-ead0-499b-d49d-a3a188230c60"
      },
      "execution_count": 15,
      "outputs": [
        {
          "output_type": "stream",
          "name": "stdout",
          "text": [
            "['Anirach', 'has', 'a', 'balloon.']\n",
            "['Anir', 'ch h', 's ', ' b', 'lloon.']\n"
          ]
        }
      ]
    }
  ]
}