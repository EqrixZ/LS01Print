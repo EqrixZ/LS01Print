{
  "nbformat": 4,
  "nbformat_minor": 0,
  "metadata": {
    "colab": {
      "provenance": [],
      "authorship_tag": "ABX9TyNyAXB5zb+Pdzhy4ElK5Ifw",
      "include_colab_link": true
    },
    "kernelspec": {
      "name": "python3",
      "display_name": "Python 3"
    },
    "language_info": {
      "name": "python"
    }
  },
  "cells": [
    {
      "cell_type": "markdown",
      "metadata": {
        "id": "view-in-github",
        "colab_type": "text"
      },
      "source": [
        "<a href=\"https://colab.research.google.com/github/EqrixZ/LS01Print/blob/main/Lacture05.ipynb\" target=\"_parent\"><img src=\"https://colab.research.google.com/assets/colab-badge.svg\" alt=\"Open In Colab\"/></a>"
      ]
    },
    {
      "cell_type": "code",
      "execution_count": 1,
      "metadata": {
        "colab": {
          "base_uri": "https://localhost:8080/"
        },
        "id": "Sr7qNCXSKnO8",
        "outputId": "79dac8e9-9f7a-463b-9576-898b6c854466"
      },
      "outputs": [
        {
          "output_type": "stream",
          "name": "stdout",
          "text": [
            "texas has 5000 birds.\n",
            "california has 8000 birds.\n"
          ]
        }
      ],
      "source": [
        "#This program demonstrates two functions that\n",
        "#have local variables with the same name.\n",
        "\n",
        "def main():\n",
        "# Call the texas function.\n",
        "  texas()\n",
        "# Call the california function.\n",
        "  california()\n",
        "\n",
        "# Definition of the texas function. It also\n",
        "# creates a local variable named birds.\n",
        "def texas():\n",
        "  birds = 5000\n",
        "  print('texas has', birds, 'birds.')\n",
        "\n",
        "# Definition of the california function. It also\n",
        "# creates a local variable named birds.\n",
        "def california():\n",
        "  birds = 8000\n",
        "  print('california has', birds, 'birds.')\n",
        "\n",
        "# Call the main function.\n",
        "main()"
      ]
    },
    {
      "cell_type": "code",
      "source": [
        "# This profram demonstrates an argument being\n",
        "# passed to a function.\n",
        "def main():\n",
        "  value = 5\n",
        "  show_double(value)\n",
        "\n",
        "# The show_double function accepts an argument\n",
        "# and displays double its value.\n",
        "def show_double(number):\n",
        "  result = number * 2\n",
        "  print(result)\n",
        "\n",
        "# Call the main function\n",
        "main()"
      ],
      "metadata": {
        "colab": {
          "base_uri": "https://localhost:8080/"
        },
        "id": "UzPqOm65Mfl1",
        "outputId": "7b17d34f-02f8-4535-ae40-c7a88fcb98c8"
      },
      "execution_count": 2,
      "outputs": [
        {
          "output_type": "stream",
          "name": "stdout",
          "text": [
            "10\n"
          ]
        }
      ]
    },
    {
      "cell_type": "code",
      "source": [
        "# This profram demonstrates a function that accepts\n",
        "# two arguments.\n",
        "def main():\n",
        "  print('The sum of 12 and 45 is')\n",
        "  show_sum(12, 45)\n",
        "\n",
        "# The show_sum function accepts two arguments\n",
        "# and displays their sum\n",
        "def show_sum(num1, num2):\n",
        "  result = num1 + num2\n",
        "  print(result)\n",
        "\n",
        "# Call the main function.\n",
        "main()"
      ],
      "metadata": {
        "colab": {
          "base_uri": "https://localhost:8080/"
        },
        "id": "-MRXP6rVN5J1",
        "outputId": "1d6d820d-75ed-41a8-eb48-112b6a18f0c4"
      },
      "execution_count": 4,
      "outputs": [
        {
          "output_type": "stream",
          "name": "stdout",
          "text": [
            "The sum of 12 and 45 is\n",
            "57\n"
          ]
        }
      ]
    }
  ]
}